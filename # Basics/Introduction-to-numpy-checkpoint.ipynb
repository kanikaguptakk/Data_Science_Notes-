{
 "cells": [
  {
   "cell_type": "code",
   "execution_count": 1,
   "id": "d4c1dcbf-f791-44eb-b175-5a5209c3c69e",
   "metadata": {},
   "outputs": [],
   "source": [
    "import numpy as np\n",
    "# Axis=0 (Rows)\n",
    "# Axix=1 (Columns)\n",
    "# Axix>1 (3-d)"
   ]
  },
  {
   "cell_type": "markdown",
   "id": "4e05bc74-be79-4042-998b-1a6bcdaf91af",
   "metadata": {},
   "source": [
    "### DataTypes and Attributes"
   ]
  },
  {
   "cell_type": "code",
   "execution_count": 4,
   "id": "7160346c-13d2-4bdb-8c9c-458d8760c8a5",
   "metadata": {},
   "outputs": [
    {
     "data": {
      "text/plain": [
       "array([4, 5, 6])"
      ]
     },
     "execution_count": 4,
     "metadata": {},
     "output_type": "execute_result"
    }
   ],
   "source": [
    "# Numpy's main datatype is ndarray (universal dtype and flexible)\n",
    "a1=np.array([4,5,6])\n",
    "a1\n"
   ]
  },
  {
   "cell_type": "code",
   "execution_count": 5,
   "id": "3fe143f8-e9fd-4567-a88a-8985c562cef0",
   "metadata": {},
   "outputs": [
    {
     "data": {
      "text/plain": [
       "numpy.ndarray"
      ]
     },
     "execution_count": 5,
     "metadata": {},
     "output_type": "execute_result"
    }
   ],
   "source": [
    "type(a1)"
   ]
  },
  {
   "cell_type": "code",
   "execution_count": 8,
   "id": "0ca3559d-4422-492c-84c6-880cb55c9f27",
   "metadata": {},
   "outputs": [
    {
     "data": {
      "text/plain": [
       "array([[1. , 2. , 3. ],\n",
       "       [4. , 5.6, 6. ]])"
      ]
     },
     "execution_count": 8,
     "metadata": {},
     "output_type": "execute_result"
    }
   ],
   "source": [
    "a2=np.array([[1,2,3],\n",
    "             [4,5.6,6.0]])\n",
    "a2"
   ]
  },
  {
   "cell_type": "code",
   "execution_count": 9,
   "id": "b36a7693-9db1-4706-8d03-085fb15f83e8",
   "metadata": {},
   "outputs": [
    {
     "data": {
      "text/plain": [
       "numpy.ndarray"
      ]
     },
     "execution_count": 9,
     "metadata": {},
     "output_type": "execute_result"
    }
   ],
   "source": [
    "type(a2)"
   ]
  },
  {
   "cell_type": "code",
   "execution_count": 12,
   "id": "27ce27f9-70e5-44c5-a192-afcc42cb93ed",
   "metadata": {},
   "outputs": [
    {
     "data": {
      "text/plain": [
       "array([[[4. , 5. , 6. ],\n",
       "        [5. , 4. , 6. ],\n",
       "        [2. , 5. , 7.5]],\n",
       "\n",
       "       [[4. , 5. , 6. ],\n",
       "        [4. , 6. , 7. ],\n",
       "        [5. , 6. , 7. ]]])"
      ]
     },
     "execution_count": 12,
     "metadata": {},
     "output_type": "execute_result"
    }
   ],
   "source": [
    "a3=np.array([[[4,5,6],\n",
    "     [5,4,6],\n",
    "     [2,5,7.5]],\n",
    "           [[4,5,6],\n",
    "           [4,6,7],\n",
    "           [5,6,7]]])\n",
    "a3"
   ]
  },
  {
   "cell_type": "code",
   "execution_count": 13,
   "id": "385bed09-e4a7-44de-a401-a495b9de73ee",
   "metadata": {},
   "outputs": [
    {
     "data": {
      "text/plain": [
       "(3,)"
      ]
     },
     "execution_count": 13,
     "metadata": {},
     "output_type": "execute_result"
    }
   ],
   "source": [
    "a1.shape     # (rows,columns)"
   ]
  },
  {
   "cell_type": "code",
   "execution_count": 14,
   "id": "f72a05b7-c4b6-4971-97c3-199cc6df2ca3",
   "metadata": {},
   "outputs": [
    {
     "data": {
      "text/plain": [
       "(2, 3)"
      ]
     },
     "execution_count": 14,
     "metadata": {},
     "output_type": "execute_result"
    }
   ],
   "source": [
    "a2.shape"
   ]
  },
  {
   "cell_type": "code",
   "execution_count": 15,
   "id": "0c05693b-48a7-4693-8da8-83a4273c5f5e",
   "metadata": {},
   "outputs": [
    {
     "data": {
      "text/plain": [
       "(2, 3, 3)"
      ]
     },
     "execution_count": 15,
     "metadata": {},
     "output_type": "execute_result"
    }
   ],
   "source": [
    "a3.shape"
   ]
  },
  {
   "cell_type": "code",
   "execution_count": 17,
   "id": "c15c82bf-59d9-4679-a45a-b5231624748f",
   "metadata": {},
   "outputs": [
    {
     "data": {
      "text/plain": [
       "(1, 2, 3)"
      ]
     },
     "execution_count": 17,
     "metadata": {},
     "output_type": "execute_result"
    }
   ],
   "source": [
    "a1.ndim, a2.ndim, a3.ndim             # ndim- number of dimensions"
   ]
  },
  {
   "cell_type": "code",
   "execution_count": 18,
   "id": "ceefefbf-fb66-48eb-aa17-846901c2635a",
   "metadata": {},
   "outputs": [
    {
     "data": {
      "text/plain": [
       "(dtype('int32'), dtype('float64'), dtype('float64'))"
      ]
     },
     "execution_count": 18,
     "metadata": {},
     "output_type": "execute_result"
    }
   ],
   "source": [
    "a1.dtype, a2.dtype, a3.dtype"
   ]
  },
  {
   "cell_type": "code",
   "execution_count": 19,
   "id": "b5706543-d3b9-4239-9ad0-b89700924b5e",
   "metadata": {},
   "outputs": [
    {
     "data": {
      "text/plain": [
       "(3, 6, 18)"
      ]
     },
     "execution_count": 19,
     "metadata": {},
     "output_type": "execute_result"
    }
   ],
   "source": [
    "a1.size, a2.size, a3.size"
   ]
  },
  {
   "cell_type": "code",
   "execution_count": 21,
   "id": "fc75dbc9-e0a5-479f-963f-be6ac06ee1ec",
   "metadata": {},
   "outputs": [
    {
     "data": {
      "text/plain": [
       "(numpy.ndarray, numpy.ndarray, numpy.ndarray)"
      ]
     },
     "execution_count": 21,
     "metadata": {},
     "output_type": "execute_result"
    }
   ],
   "source": [
    "type(a1), type(a2), type(a3)          # numpy attribute type"
   ]
  },
  {
   "cell_type": "code",
   "execution_count": 23,
   "id": "b9bbf9d5-f6a0-472d-a241-58bff13c7aaf",
   "metadata": {},
   "outputs": [
    {
     "data": {
      "text/plain": [
       "array([[[4. , 5. , 6. ],\n",
       "        [5. , 4. , 6. ],\n",
       "        [2. , 5. , 7.5]],\n",
       "\n",
       "       [[4. , 5. , 6. ],\n",
       "        [4. , 6. , 7. ],\n",
       "        [5. , 6. , 7. ]]])"
      ]
     },
     "execution_count": 23,
     "metadata": {},
     "output_type": "execute_result"
    }
   ],
   "source": [
    "a3"
   ]
  },
  {
   "cell_type": "code",
   "execution_count": 24,
   "id": "44707309-7d06-40c2-93fe-0a31149af34b",
   "metadata": {},
   "outputs": [
    {
     "data": {
      "text/plain": [
       "array([[1. , 2. , 3. ],\n",
       "       [4. , 5.6, 6. ]])"
      ]
     },
     "execution_count": 24,
     "metadata": {},
     "output_type": "execute_result"
    }
   ],
   "source": [
    "a2"
   ]
  },
  {
   "cell_type": "code",
   "execution_count": 27,
   "id": "a74123f5-0a1a-4fbb-a312-f24ac11f78b7",
   "metadata": {},
   "outputs": [
    {
     "ename": "ValueError",
     "evalue": "Must pass 2-d input. shape=(2, 3, 3)",
     "output_type": "error",
     "traceback": [
      "\u001b[1;31m---------------------------------------------------------------------------\u001b[0m",
      "\u001b[1;31mValueError\u001b[0m                                Traceback (most recent call last)",
      "Cell \u001b[1;32mIn[27], line 3\u001b[0m\n\u001b[0;32m      1\u001b[0m \u001b[38;5;66;03m# Create a DataFrame form a NumPy array\u001b[39;00m\n\u001b[0;32m      2\u001b[0m \u001b[38;5;28;01mimport\u001b[39;00m \u001b[38;5;21;01mpandas\u001b[39;00m \u001b[38;5;28;01mas\u001b[39;00m \u001b[38;5;21;01mpd\u001b[39;00m\n\u001b[1;32m----> 3\u001b[0m df\u001b[38;5;241m=\u001b[39m \u001b[43mpd\u001b[49m\u001b[38;5;241;43m.\u001b[39;49m\u001b[43mDataFrame\u001b[49m\u001b[43m(\u001b[49m\u001b[43ma3\u001b[49m\u001b[43m)\u001b[49m               \u001b[38;5;66;03m# a3 is 3-d array but with the help of pandas we can only create a 2-d df\u001b[39;00m\n\u001b[0;32m      4\u001b[0m df\n",
      "File \u001b[1;32m~\\Music\\sample_project\\env\\lib\\site-packages\\pandas\\core\\frame.py:782\u001b[0m, in \u001b[0;36mDataFrame.__init__\u001b[1;34m(self, data, index, columns, dtype, copy)\u001b[0m\n\u001b[0;32m    771\u001b[0m         mgr \u001b[38;5;241m=\u001b[39m dict_to_mgr(\n\u001b[0;32m    772\u001b[0m             \u001b[38;5;66;03m# error: Item \"ndarray\" of \"Union[ndarray, Series, Index]\" has no\u001b[39;00m\n\u001b[0;32m    773\u001b[0m             \u001b[38;5;66;03m# attribute \"name\"\u001b[39;00m\n\u001b[1;32m   (...)\u001b[0m\n\u001b[0;32m    779\u001b[0m             copy\u001b[38;5;241m=\u001b[39m_copy,\n\u001b[0;32m    780\u001b[0m         )\n\u001b[0;32m    781\u001b[0m     \u001b[38;5;28;01melse\u001b[39;00m:\n\u001b[1;32m--> 782\u001b[0m         mgr \u001b[38;5;241m=\u001b[39m \u001b[43mndarray_to_mgr\u001b[49m\u001b[43m(\u001b[49m\n\u001b[0;32m    783\u001b[0m \u001b[43m            \u001b[49m\u001b[43mdata\u001b[49m\u001b[43m,\u001b[49m\n\u001b[0;32m    784\u001b[0m \u001b[43m            \u001b[49m\u001b[43mindex\u001b[49m\u001b[43m,\u001b[49m\n\u001b[0;32m    785\u001b[0m \u001b[43m            \u001b[49m\u001b[43mcolumns\u001b[49m\u001b[43m,\u001b[49m\n\u001b[0;32m    786\u001b[0m \u001b[43m            \u001b[49m\u001b[43mdtype\u001b[49m\u001b[38;5;241;43m=\u001b[39;49m\u001b[43mdtype\u001b[49m\u001b[43m,\u001b[49m\n\u001b[0;32m    787\u001b[0m \u001b[43m            \u001b[49m\u001b[43mcopy\u001b[49m\u001b[38;5;241;43m=\u001b[39;49m\u001b[43mcopy\u001b[49m\u001b[43m,\u001b[49m\n\u001b[0;32m    788\u001b[0m \u001b[43m            \u001b[49m\u001b[43mtyp\u001b[49m\u001b[38;5;241;43m=\u001b[39;49m\u001b[43mmanager\u001b[49m\u001b[43m,\u001b[49m\n\u001b[0;32m    789\u001b[0m \u001b[43m        \u001b[49m\u001b[43m)\u001b[49m\n\u001b[0;32m    791\u001b[0m \u001b[38;5;66;03m# For data is list-like, or Iterable (will consume into list)\u001b[39;00m\n\u001b[0;32m    792\u001b[0m \u001b[38;5;28;01melif\u001b[39;00m is_list_like(data):\n",
      "File \u001b[1;32m~\\Music\\sample_project\\env\\lib\\site-packages\\pandas\\core\\internals\\construction.py:314\u001b[0m, in \u001b[0;36mndarray_to_mgr\u001b[1;34m(values, index, columns, dtype, copy, typ)\u001b[0m\n\u001b[0;32m    308\u001b[0m     _copy \u001b[38;5;241m=\u001b[39m (\n\u001b[0;32m    309\u001b[0m         copy_on_sanitize\n\u001b[0;32m    310\u001b[0m         \u001b[38;5;28;01mif\u001b[39;00m (dtype \u001b[38;5;129;01mis\u001b[39;00m \u001b[38;5;28;01mNone\u001b[39;00m \u001b[38;5;129;01mor\u001b[39;00m astype_is_view(values\u001b[38;5;241m.\u001b[39mdtype, dtype))\n\u001b[0;32m    311\u001b[0m         \u001b[38;5;28;01melse\u001b[39;00m \u001b[38;5;28;01mFalse\u001b[39;00m\n\u001b[0;32m    312\u001b[0m     )\n\u001b[0;32m    313\u001b[0m     values \u001b[38;5;241m=\u001b[39m np\u001b[38;5;241m.\u001b[39marray(values, copy\u001b[38;5;241m=\u001b[39m_copy)\n\u001b[1;32m--> 314\u001b[0m     values \u001b[38;5;241m=\u001b[39m \u001b[43m_ensure_2d\u001b[49m\u001b[43m(\u001b[49m\u001b[43mvalues\u001b[49m\u001b[43m)\u001b[49m\n\u001b[0;32m    316\u001b[0m \u001b[38;5;28;01melse\u001b[39;00m:\n\u001b[0;32m    317\u001b[0m     \u001b[38;5;66;03m# by definition an array here\u001b[39;00m\n\u001b[0;32m    318\u001b[0m     \u001b[38;5;66;03m# the dtypes will be coerced to a single dtype\u001b[39;00m\n\u001b[0;32m    319\u001b[0m     values \u001b[38;5;241m=\u001b[39m _prep_ndarraylike(values, copy\u001b[38;5;241m=\u001b[39mcopy_on_sanitize)\n",
      "File \u001b[1;32m~\\Music\\sample_project\\env\\lib\\site-packages\\pandas\\core\\internals\\construction.py:592\u001b[0m, in \u001b[0;36m_ensure_2d\u001b[1;34m(values)\u001b[0m\n\u001b[0;32m    590\u001b[0m     values \u001b[38;5;241m=\u001b[39m values\u001b[38;5;241m.\u001b[39mreshape((values\u001b[38;5;241m.\u001b[39mshape[\u001b[38;5;241m0\u001b[39m], \u001b[38;5;241m1\u001b[39m))\n\u001b[0;32m    591\u001b[0m \u001b[38;5;28;01melif\u001b[39;00m values\u001b[38;5;241m.\u001b[39mndim \u001b[38;5;241m!=\u001b[39m \u001b[38;5;241m2\u001b[39m:\n\u001b[1;32m--> 592\u001b[0m     \u001b[38;5;28;01mraise\u001b[39;00m \u001b[38;5;167;01mValueError\u001b[39;00m(\u001b[38;5;124mf\u001b[39m\u001b[38;5;124m\"\u001b[39m\u001b[38;5;124mMust pass 2-d input. shape=\u001b[39m\u001b[38;5;132;01m{\u001b[39;00mvalues\u001b[38;5;241m.\u001b[39mshape\u001b[38;5;132;01m}\u001b[39;00m\u001b[38;5;124m\"\u001b[39m)\n\u001b[0;32m    593\u001b[0m \u001b[38;5;28;01mreturn\u001b[39;00m values\n",
      "\u001b[1;31mValueError\u001b[0m: Must pass 2-d input. shape=(2, 3, 3)"
     ]
    }
   ],
   "source": [
    "# Create a DataFrame form a NumPy array\n",
    "import pandas as pd\n",
    "df= pd.DataFrame(a3)               # a3 is 3-d array but with the help of pandas we can only create a 2-d df\n",
    "df"
   ]
  },
  {
   "cell_type": "code",
   "execution_count": 28,
   "id": "a62da861-69de-44cb-91ac-867163fd18c2",
   "metadata": {},
   "outputs": [
    {
     "data": {
      "text/html": [
       "<div>\n",
       "<style scoped>\n",
       "    .dataframe tbody tr th:only-of-type {\n",
       "        vertical-align: middle;\n",
       "    }\n",
       "\n",
       "    .dataframe tbody tr th {\n",
       "        vertical-align: top;\n",
       "    }\n",
       "\n",
       "    .dataframe thead th {\n",
       "        text-align: right;\n",
       "    }\n",
       "</style>\n",
       "<table border=\"1\" class=\"dataframe\">\n",
       "  <thead>\n",
       "    <tr style=\"text-align: right;\">\n",
       "      <th></th>\n",
       "      <th>0</th>\n",
       "      <th>1</th>\n",
       "      <th>2</th>\n",
       "    </tr>\n",
       "  </thead>\n",
       "  <tbody>\n",
       "    <tr>\n",
       "      <th>0</th>\n",
       "      <td>1.0</td>\n",
       "      <td>2.0</td>\n",
       "      <td>3.0</td>\n",
       "    </tr>\n",
       "    <tr>\n",
       "      <th>1</th>\n",
       "      <td>4.0</td>\n",
       "      <td>5.6</td>\n",
       "      <td>6.0</td>\n",
       "    </tr>\n",
       "  </tbody>\n",
       "</table>\n",
       "</div>"
      ],
      "text/plain": [
       "     0    1    2\n",
       "0  1.0  2.0  3.0\n",
       "1  4.0  5.6  6.0"
      ]
     },
     "execution_count": 28,
     "metadata": {},
     "output_type": "execute_result"
    }
   ],
   "source": [
    "df=pd.DataFrame(a2)\n",
    "df"
   ]
  },
  {
   "cell_type": "markdown",
   "id": "0efdbf55-97bb-4e43-9be0-e3cfc5fc7c3a",
   "metadata": {},
   "source": [
    "### Creating NumPy Arrays"
   ]
  },
  {
   "cell_type": "code",
   "execution_count": 29,
   "id": "0c27acba-42bd-4712-be5b-2c7df0b9dedd",
   "metadata": {},
   "outputs": [
    {
     "data": {
      "text/plain": [
       "array([4, 3, 5])"
      ]
     },
     "execution_count": 29,
     "metadata": {},
     "output_type": "execute_result"
    }
   ],
   "source": [
    "sample_array=np.array([4,3,5])\n",
    "sample_array"
   ]
  },
  {
   "cell_type": "code",
   "execution_count": 30,
   "id": "48890672-cc16-4ea8-bcf0-7f9f7b09d609",
   "metadata": {},
   "outputs": [
    {
     "data": {
      "text/plain": [
       "dtype('int32')"
      ]
     },
     "execution_count": 30,
     "metadata": {},
     "output_type": "execute_result"
    }
   ],
   "source": [
    "sample_array.dtype"
   ]
  },
  {
   "cell_type": "code",
   "execution_count": 35,
   "id": "561f918b-3c45-40fe-b9e7-d9d32ffce916",
   "metadata": {},
   "outputs": [
    {
     "data": {
      "text/plain": [
       "array([[1, 1, 1, 1],\n",
       "       [1, 1, 1, 1],\n",
       "       [1, 1, 1, 1]])"
      ]
     },
     "execution_count": 35,
     "metadata": {},
     "output_type": "execute_result"
    }
   ],
   "source": [
    "ones=np.ones((3,4),dtype=int)       # bydefault float dtype of ones \n",
    "ones"
   ]
  },
  {
   "cell_type": "code",
   "execution_count": 36,
   "id": "9edac8d0-7308-4908-ad80-3385e4d6308b",
   "metadata": {},
   "outputs": [
    {
     "data": {
      "text/plain": [
       "dtype('int32')"
      ]
     },
     "execution_count": 36,
     "metadata": {},
     "output_type": "execute_result"
    }
   ],
   "source": [
    "ones.dtype"
   ]
  },
  {
   "cell_type": "code",
   "execution_count": 37,
   "id": "b3998ba5-34f5-49e3-94b8-39d2cad12462",
   "metadata": {},
   "outputs": [
    {
     "data": {
      "text/plain": [
       "numpy.ndarray"
      ]
     },
     "execution_count": 37,
     "metadata": {},
     "output_type": "execute_result"
    }
   ],
   "source": [
    "type(ones)"
   ]
  },
  {
   "cell_type": "code",
   "execution_count": 38,
   "id": "a83a37b9-5370-421a-811a-ff4dd39fad32",
   "metadata": {},
   "outputs": [
    {
     "data": {
      "text/plain": [
       "array([[0, 0, 0],\n",
       "       [0, 0, 0],\n",
       "       [0, 0, 0],\n",
       "       [0, 0, 0]])"
      ]
     },
     "execution_count": 38,
     "metadata": {},
     "output_type": "execute_result"
    }
   ],
   "source": [
    "zeros=np.zeros((4,3),dtype=int)      # bydefault flaot dtype of zeros\n",
    "zeros"
   ]
  },
  {
   "cell_type": "code",
   "execution_count": 39,
   "id": "f1852ac6-a1c0-4343-b796-66cc3c75cd28",
   "metadata": {},
   "outputs": [
    {
     "data": {
      "text/plain": [
       "dtype('int32')"
      ]
     },
     "execution_count": 39,
     "metadata": {},
     "output_type": "execute_result"
    }
   ],
   "source": [
    "zeros.dtype"
   ]
  },
  {
   "cell_type": "code",
   "execution_count": 40,
   "id": "ef21bcd6-bb10-4763-b065-df60d4f6c805",
   "metadata": {},
   "outputs": [
    {
     "data": {
      "text/plain": [
       "numpy.ndarray"
      ]
     },
     "execution_count": 40,
     "metadata": {},
     "output_type": "execute_result"
    }
   ],
   "source": [
    "type(zeros)"
   ]
  },
  {
   "cell_type": "code",
   "execution_count": 44,
   "id": "82f1dd26-1269-46c5-a8f7-8c4ef183f183",
   "metadata": {},
   "outputs": [
    {
     "data": {
      "text/plain": [
       "array([ 4.,  8., 12., 16., 20., 24., 28., 32., 36., 40., 44., 48.])"
      ]
     },
     "execution_count": 44,
     "metadata": {},
     "output_type": "execute_result"
    }
   ],
   "source": [
    "arange=np.arange(4,50,4,dtype=float)           # No use of another () for(start,end,step)\n",
    "arange"
   ]
  },
  {
   "cell_type": "code",
   "execution_count": 45,
   "id": "03ff05b7-ed91-4a32-9842-2da133abcad8",
   "metadata": {},
   "outputs": [
    {
     "data": {
      "text/plain": [
       "array([[ 4.,  8., 12., 16.],\n",
       "       [20., 24., 28., 32.],\n",
       "       [36., 40., 44., 48.]])"
      ]
     },
     "execution_count": 45,
     "metadata": {},
     "output_type": "execute_result"
    }
   ],
   "source": [
    "arange_2=arange.reshape((3,4))\n",
    "arange_2"
   ]
  },
  {
   "cell_type": "code",
   "execution_count": 52,
   "id": "6324a555-639e-4177-8608-10ee06907574",
   "metadata": {},
   "outputs": [
    {
     "data": {
      "text/plain": [
       "array([[5, 6, 7, 5, 9],\n",
       "       [0, 4, 7, 6, 7],\n",
       "       [7, 1, 8, 6, 6]])"
      ]
     },
     "execution_count": 52,
     "metadata": {},
     "output_type": "execute_result"
    }
   ],
   "source": [
    "random_array=np.random.randint(0,10,size=(3,5))           # If arange array is not used and directly want to create a matrix then use .random.randint \n",
    "random_array"
   ]
  },
  {
   "cell_type": "code",
   "execution_count": 53,
   "id": "e7104e17-5297-44f2-be35-fe58020bb152",
   "metadata": {},
   "outputs": [
    {
     "data": {
      "text/plain": [
       "(3, 5)"
      ]
     },
     "execution_count": 53,
     "metadata": {},
     "output_type": "execute_result"
    }
   ],
   "source": [
    "random_array.shape"
   ]
  },
  {
   "cell_type": "code",
   "execution_count": 54,
   "id": "a0d39327-18f4-4686-97ba-6913cf522c71",
   "metadata": {},
   "outputs": [
    {
     "data": {
      "text/plain": [
       "15"
      ]
     },
     "execution_count": 54,
     "metadata": {},
     "output_type": "execute_result"
    }
   ],
   "source": [
    "random_array.size"
   ]
  },
  {
   "cell_type": "code",
   "execution_count": 56,
   "id": "9039e017-2235-4ea5-a607-948e97bdcda1",
   "metadata": {},
   "outputs": [
    {
     "data": {
      "text/plain": [
       "array([[9, 1, 3, 8, 5],\n",
       "       [8, 8, 2, 0, 0],\n",
       "       [6, 0, 0, 5, 8]])"
      ]
     },
     "execution_count": 56,
     "metadata": {},
     "output_type": "execute_result"
    }
   ],
   "source": [
    "empty=np.empty((3,5),dtype=int)      # Method 1. to create a random array \n",
    "empty"
   ]
  },
  {
   "cell_type": "code",
   "execution_count": 76,
   "id": "5ab0bc39-a973-4cd1-99b0-97211b2a8bdb",
   "metadata": {},
   "outputs": [
    {
     "data": {
      "text/plain": [
       "array([[0.79172504, 0.52889492, 0.56804456, 0.92559664, 0.07103606],\n",
       "       [0.0871293 , 0.0202184 , 0.83261985, 0.77815675, 0.87001215],\n",
       "       [0.97861834, 0.79915856, 0.46147936, 0.78052918, 0.11827443]])"
      ]
     },
     "execution_count": 76,
     "metadata": {},
     "output_type": "execute_result"
    }
   ],
   "source": [
    "random=np.random.random((3,5))           # Method 1. to create a random array but between 0 to 1\n",
    "random"
   ]
  },
  {
   "cell_type": "code",
   "execution_count": 70,
   "id": "25ef3de8-a7f2-4ef3-9a84-e4c111175178",
   "metadata": {},
   "outputs": [
    {
     "data": {
      "text/plain": [
       "array([[6, 7, 7, 8],\n",
       "       [1, 5, 9, 8],\n",
       "       [9, 4, 3, 0]])"
      ]
     },
     "execution_count": 70,
     "metadata": {},
     "output_type": "execute_result"
    }
   ],
   "source": [
    "random_array_2=np.random.randint(12,size=(3,4))\n",
    "random_array_2"
   ]
  },
  {
   "cell_type": "code",
   "execution_count": 77,
   "id": "a7adde52-a4b5-4b1a-8810-a7b5b8a23b64",
   "metadata": {},
   "outputs": [
    {
     "data": {
      "text/plain": [
       "array([[0.63992102, 0.14335329, 0.94466892, 0.52184832, 0.41466194],\n",
       "       [0.26455561, 0.77423369, 0.45615033, 0.56843395, 0.0187898 ],\n",
       "       [0.6176355 , 0.61209572, 0.616934  , 0.94374808, 0.6818203 ]])"
      ]
     },
     "execution_count": 77,
     "metadata": {},
     "output_type": "execute_result"
    }
   ],
   "source": [
    "random=np.random.rand(3,5)           # Method 2. to create a random array but between 0 to 1\n",
    "random"
   ]
  },
  {
   "cell_type": "code",
   "execution_count": 71,
   "id": "1253cecc-1a3a-495e-9718-b6e6dc577394",
   "metadata": {},
   "outputs": [
    {
     "data": {
      "text/plain": [
       "array([[3, 5, 0, 2],\n",
       "       [3, 8, 1, 3],\n",
       "       [3, 3, 7, 0]])"
      ]
     },
     "execution_count": 71,
     "metadata": {},
     "output_type": "execute_result"
    }
   ],
   "source": [
    "random_array_2=np.random.randint(12,size=(3,4))     # both are different\n",
    "random_array_2"
   ]
  },
  {
   "cell_type": "code",
   "execution_count": 74,
   "id": "f5b2bd73-9306-41b9-8d2d-b5e257d89511",
   "metadata": {},
   "outputs": [
    {
     "data": {
      "text/plain": [
       "array([[5, 0, 3, 3, 7],\n",
       "       [9, 3, 5, 2, 4],\n",
       "       [7, 6, 8, 8, 1]])"
      ]
     },
     "execution_count": 74,
     "metadata": {},
     "output_type": "execute_result"
    }
   ],
   "source": [
    "# Pseudo Random numbers (to generate reproducible random numbers)\n",
    "np. random.seed(seed=0)\n",
    "random_array_3=np.random.randint(10,size=(3,5))\n",
    "random_array_3"
   ]
  },
  {
   "cell_type": "code",
   "execution_count": 80,
   "id": "3a2ce53b-35e0-4684-9138-f6a75d1c1626",
   "metadata": {},
   "outputs": [
    {
     "data": {
      "text/plain": [
       "array([[0.5488135 , 0.71518937, 0.60276338, 0.54488318, 0.4236548 ],\n",
       "       [0.64589411, 0.43758721, 0.891773  , 0.96366276, 0.38344152],\n",
       "       [0.79172504, 0.52889492, 0.56804456, 0.92559664, 0.07103606]])"
      ]
     },
     "execution_count": 80,
     "metadata": {},
     "output_type": "execute_result"
    }
   ],
   "source": [
    "np. random.seed(seed=0)\n",
    "random_array_4=np.random.random((3,5))\n",
    "random_array_4"
   ]
  },
  {
   "cell_type": "code",
   "execution_count": 78,
   "id": "56fe384d-24a8-4948-9976-ea258d62d857",
   "metadata": {},
   "outputs": [
    {
     "data": {
      "text/plain": [
       "array([[0.5488135 , 0.71518937, 0.60276338, 0.54488318, 0.4236548 ],\n",
       "       [0.64589411, 0.43758721, 0.891773  , 0.96366276, 0.38344152],\n",
       "       [0.79172504, 0.52889492, 0.56804456, 0.92559664, 0.07103606]])"
      ]
     },
     "execution_count": 78,
     "metadata": {},
     "output_type": "execute_result"
    }
   ],
   "source": [
    "np. random.seed(seed=0)\n",
    "random_array_4=np.random.random((3,5))\n",
    "random_array_4"
   ]
  },
  {
   "cell_type": "code",
   "execution_count": 79,
   "id": "5c8eee0c-1387-419d-b3bc-fa584ac59a8c",
   "metadata": {},
   "outputs": [
    {
     "data": {
      "text/plain": [
       "array([[0.0871293 , 0.0202184 , 0.83261985, 0.77815675, 0.87001215],\n",
       "       [0.97861834, 0.79915856, 0.46147936, 0.78052918, 0.11827443],\n",
       "       [0.63992102, 0.14335329, 0.94466892, 0.52184832, 0.41466194]])"
      ]
     },
     "execution_count": 79,
     "metadata": {},
     "output_type": "execute_result"
    }
   ],
   "source": [
    "random_array_4=np.random.random((3,5))\n",
    "random_array_4"
   ]
  },
  {
   "cell_type": "markdown",
   "id": "32b32f4d-a439-4e15-8685-1b448594aeb9",
   "metadata": {},
   "source": [
    "### Viewing arrays and matrices"
   ]
  },
  {
   "cell_type": "code",
   "execution_count": 81,
   "id": "969f8714-4050-4c1c-ab5f-e7e7627be8b0",
   "metadata": {},
   "outputs": [
    {
     "data": {
      "text/plain": [
       "array([0, 1, 2, 3, 4, 5, 6, 7, 8, 9])"
      ]
     },
     "execution_count": 81,
     "metadata": {},
     "output_type": "execute_result"
    }
   ],
   "source": [
    "np.unique(random_array_3)"
   ]
  },
  {
   "cell_type": "code",
   "execution_count": 82,
   "id": "d72009c1-f39b-45e6-96d4-d3df570ba58f",
   "metadata": {},
   "outputs": [
    {
     "data": {
      "text/plain": [
       "array([4, 5, 6])"
      ]
     },
     "execution_count": 82,
     "metadata": {},
     "output_type": "execute_result"
    }
   ],
   "source": [
    "a1"
   ]
  },
  {
   "cell_type": "code",
   "execution_count": 83,
   "id": "887b6f04-9d2a-41a5-8b34-da1df9921eb4",
   "metadata": {},
   "outputs": [
    {
     "data": {
      "text/plain": [
       "array([[1. , 2. , 3. ],\n",
       "       [4. , 5.6, 6. ]])"
      ]
     },
     "execution_count": 83,
     "metadata": {},
     "output_type": "execute_result"
    }
   ],
   "source": [
    "a2"
   ]
  },
  {
   "cell_type": "code",
   "execution_count": 84,
   "id": "88f53456-311d-458c-8f8e-a39c92a88671",
   "metadata": {},
   "outputs": [
    {
     "data": {
      "text/plain": [
       "array([[[4. , 5. , 6. ],\n",
       "        [5. , 4. , 6. ],\n",
       "        [2. , 5. , 7.5]],\n",
       "\n",
       "       [[4. , 5. , 6. ],\n",
       "        [4. , 6. , 7. ],\n",
       "        [5. , 6. , 7. ]]])"
      ]
     },
     "execution_count": 84,
     "metadata": {},
     "output_type": "execute_result"
    }
   ],
   "source": [
    "a3"
   ]
  },
  {
   "cell_type": "code",
   "execution_count": 85,
   "id": "0e8887cb-bff3-42c4-83f0-97086f5753db",
   "metadata": {},
   "outputs": [
    {
     "data": {
      "text/plain": [
       "4"
      ]
     },
     "execution_count": 85,
     "metadata": {},
     "output_type": "execute_result"
    }
   ],
   "source": [
    "a1[0]"
   ]
  },
  {
   "cell_type": "code",
   "execution_count": 86,
   "id": "046ff097-f8a2-4995-8033-4e46f9ba63e5",
   "metadata": {},
   "outputs": [
    {
     "data": {
      "text/plain": [
       "array([1., 2., 3.])"
      ]
     },
     "execution_count": 86,
     "metadata": {},
     "output_type": "execute_result"
    }
   ],
   "source": [
    "a2[0]"
   ]
  },
  {
   "cell_type": "code",
   "execution_count": 87,
   "id": "7c8b026a-cd6c-4034-9614-a0ab829d0177",
   "metadata": {},
   "outputs": [
    {
     "data": {
      "text/plain": [
       "array([[4. , 5. , 6. ],\n",
       "       [5. , 4. , 6. ],\n",
       "       [2. , 5. , 7.5]])"
      ]
     },
     "execution_count": 87,
     "metadata": {},
     "output_type": "execute_result"
    }
   ],
   "source": [
    "a3[0]"
   ]
  },
  {
   "cell_type": "code",
   "execution_count": 88,
   "id": "2344b542-0d32-47a3-889a-06883327c5ae",
   "metadata": {},
   "outputs": [
    {
     "data": {
      "text/plain": [
       "array([[[4. , 5. , 6. ],\n",
       "        [5. , 4. , 6. ],\n",
       "        [2. , 5. , 7.5]]])"
      ]
     },
     "execution_count": 88,
     "metadata": {},
     "output_type": "execute_result"
    }
   ],
   "source": [
    "a3[[0]]"
   ]
  },
  {
   "cell_type": "code",
   "execution_count": 89,
   "id": "3f657927-9051-42a6-8069-d25a212a66b4",
   "metadata": {},
   "outputs": [
    {
     "data": {
      "text/plain": [
       "array([[1. , 2. , 3. ],\n",
       "       [4. , 5.6, 6. ]])"
      ]
     },
     "execution_count": 89,
     "metadata": {},
     "output_type": "execute_result"
    }
   ],
   "source": [
    "a2"
   ]
  },
  {
   "cell_type": "code",
   "execution_count": 90,
   "id": "cfbe6bec-9107-4bb7-bb19-df6b3d78ef3c",
   "metadata": {},
   "outputs": [
    {
     "data": {
      "text/plain": [
       "array([[1., 2., 3.]])"
      ]
     },
     "execution_count": 90,
     "metadata": {},
     "output_type": "execute_result"
    }
   ],
   "source": [
    "a2[:1]"
   ]
  },
  {
   "cell_type": "code",
   "execution_count": 91,
   "id": "2ca54af2-2b61-4bb7-b7bf-ab8575581f77",
   "metadata": {},
   "outputs": [
    {
     "data": {
      "text/plain": [
       "array([[1.]])"
      ]
     },
     "execution_count": 91,
     "metadata": {},
     "output_type": "execute_result"
    }
   ],
   "source": [
    "a2[:1,:1]"
   ]
  },
  {
   "cell_type": "code",
   "execution_count": 92,
   "id": "433920d2-253b-4626-81e4-8edaa843824f",
   "metadata": {},
   "outputs": [
    {
     "data": {
      "text/plain": [
       "array([[[4. , 5. , 6. ],\n",
       "        [5. , 4. , 6. ],\n",
       "        [2. , 5. , 7.5]],\n",
       "\n",
       "       [[4. , 5. , 6. ],\n",
       "        [4. , 6. , 7. ],\n",
       "        [5. , 6. , 7. ]]])"
      ]
     },
     "execution_count": 92,
     "metadata": {},
     "output_type": "execute_result"
    }
   ],
   "source": [
    "a3"
   ]
  },
  {
   "cell_type": "code",
   "execution_count": 98,
   "id": "161d416b-cc4b-4cfa-a240-4aa141090d30",
   "metadata": {},
   "outputs": [
    {
     "data": {
      "text/plain": [
       "array([[[4. , 5. , 6. ],\n",
       "        [5. , 4. , 6. ],\n",
       "        [2. , 5. , 7.5]],\n",
       "\n",
       "       [[4. , 5. , 6. ],\n",
       "        [4. , 6. , 7. ],\n",
       "        [5. , 6. , 7. ]]])"
      ]
     },
     "execution_count": 98,
     "metadata": {},
     "output_type": "execute_result"
    }
   ],
   "source": [
    "a3[:2]"
   ]
  },
  {
   "cell_type": "code",
   "execution_count": 99,
   "id": "151628a2-ce1b-438f-a3a9-2b6fbcfc7323",
   "metadata": {},
   "outputs": [
    {
     "data": {
      "text/plain": [
       "array([[[4., 5., 6.]],\n",
       "\n",
       "       [[4., 5., 6.]]])"
      ]
     },
     "execution_count": 99,
     "metadata": {},
     "output_type": "execute_result"
    }
   ],
   "source": [
    "a3[:2,:1]"
   ]
  },
  {
   "cell_type": "code",
   "execution_count": 103,
   "id": "d6c9e563-bff7-45b2-8d71-66144c3176e8",
   "metadata": {},
   "outputs": [
    {
     "data": {
      "text/plain": [
       "array([[[4.]],\n",
       "\n",
       "       [[4.]]])"
      ]
     },
     "execution_count": 103,
     "metadata": {},
     "output_type": "execute_result"
    }
   ],
   "source": [
    "a3[:2,:1,:1]"
   ]
  },
  {
   "cell_type": "code",
   "execution_count": 109,
   "id": "3a447b06-d0c6-4c6e-a94e-283edd36b130",
   "metadata": {},
   "outputs": [
    {
     "data": {
      "text/plain": [
       "array([[[[5, 0, 3, 3, 7],\n",
       "         [9, 3, 5, 2, 4],\n",
       "         [7, 6, 8, 8, 1],\n",
       "         [6, 7, 7, 8, 1]],\n",
       "\n",
       "        [[5, 9, 8, 9, 4],\n",
       "         [3, 0, 3, 5, 0],\n",
       "         [2, 3, 8, 1, 3],\n",
       "         [3, 3, 7, 0, 1]],\n",
       "\n",
       "        [[9, 9, 0, 4, 7],\n",
       "         [3, 2, 7, 2, 0],\n",
       "         [0, 4, 5, 5, 6],\n",
       "         [8, 4, 1, 4, 9]]],\n",
       "\n",
       "\n",
       "       [[[8, 1, 1, 7, 9],\n",
       "         [9, 3, 6, 7, 2],\n",
       "         [0, 3, 5, 9, 4],\n",
       "         [4, 6, 4, 4, 3]],\n",
       "\n",
       "        [[4, 4, 8, 4, 3],\n",
       "         [7, 5, 5, 0, 1],\n",
       "         [5, 9, 3, 0, 5],\n",
       "         [0, 1, 2, 4, 2]],\n",
       "\n",
       "        [[0, 3, 2, 0, 7],\n",
       "         [5, 9, 0, 2, 7],\n",
       "         [2, 9, 2, 3, 3],\n",
       "         [2, 3, 4, 1, 2]]]])"
      ]
     },
     "execution_count": 109,
     "metadata": {},
     "output_type": "execute_result"
    }
   ],
   "source": [
    "np. random.seed(0)\n",
    "random_array_5=np.random.randint(10,size=(2,3,4,5))     # (2 sets, 3 matrices, 4 rows, 5 columns)\n",
    "random_array_5"
   ]
  },
  {
   "cell_type": "code",
   "execution_count": 110,
   "id": "76525338-63e2-4f6b-8002-456d69d00c23",
   "metadata": {},
   "outputs": [
    {
     "data": {
      "text/plain": [
       "((2, 3, 4, 5), 4)"
      ]
     },
     "execution_count": 110,
     "metadata": {},
     "output_type": "execute_result"
    }
   ],
   "source": [
    "random_array_5.shape, random_array_5.ndim"
   ]
  },
  {
   "cell_type": "code",
   "execution_count": 111,
   "id": "64d4d930-6408-43d4-a74c-12603ccb1457",
   "metadata": {},
   "outputs": [
    {
     "data": {
      "text/plain": [
       "120"
      ]
     },
     "execution_count": 111,
     "metadata": {},
     "output_type": "execute_result"
    }
   ],
   "source": [
    "random_array_5.size"
   ]
  },
  {
   "cell_type": "code",
   "execution_count": 119,
   "id": "df4a7f62-3b33-4382-a956-6eefb9b876af",
   "metadata": {},
   "outputs": [
    {
     "data": {
      "text/plain": [
       "array([[[4, 4, 8, 4, 3]]])"
      ]
     },
     "execution_count": 119,
     "metadata": {},
     "output_type": "execute_result"
    }
   ],
   "source": [
    "random_array_5[1:, 1:2, 0]"
   ]
  },
  {
   "cell_type": "code",
   "execution_count": 121,
   "id": "8a8c5096-2a10-4958-a9fb-c9ca13940afc",
   "metadata": {},
   "outputs": [
    {
     "data": {
      "text/plain": [
       "array([[0, 3, 2, 0, 7]])"
      ]
     },
     "execution_count": 121,
     "metadata": {},
     "output_type": "execute_result"
    }
   ],
   "source": [
    "random_array_5[1:, 2, 0]"
   ]
  },
  {
   "cell_type": "code",
   "execution_count": 130,
   "id": "f67b7f0a-5844-40dd-9650-fca666324947",
   "metadata": {},
   "outputs": [
    {
     "data": {
      "text/plain": [
       "array([[[[5, 0, 3, 3, 7],\n",
       "         [9, 3, 5, 2, 4],\n",
       "         [7, 6, 8, 8, 1],\n",
       "         [6, 7, 7, 8, 1]],\n",
       "\n",
       "        [[5, 9, 8, 9, 4],\n",
       "         [3, 0, 3, 5, 0],\n",
       "         [2, 3, 8, 1, 3],\n",
       "         [3, 3, 7, 0, 1]],\n",
       "\n",
       "        [[9, 9, 0, 4, 7],\n",
       "         [3, 2, 7, 2, 0],\n",
       "         [0, 4, 5, 5, 6],\n",
       "         [8, 4, 1, 4, 9]]],\n",
       "\n",
       "\n",
       "       [[[8, 1, 1, 7, 9],\n",
       "         [9, 3, 6, 7, 2],\n",
       "         [0, 3, 5, 9, 4],\n",
       "         [4, 6, 4, 4, 3]],\n",
       "\n",
       "        [[4, 4, 8, 4, 3],\n",
       "         [7, 5, 5, 0, 1],\n",
       "         [5, 9, 3, 0, 5],\n",
       "         [0, 1, 2, 4, 2]],\n",
       "\n",
       "        [[0, 3, 2, 0, 7],\n",
       "         [5, 9, 0, 2, 7],\n",
       "         [2, 9, 2, 3, 3],\n",
       "         [2, 3, 4, 1, 2]]]])"
      ]
     },
     "execution_count": 130,
     "metadata": {},
     "output_type": "execute_result"
    }
   ],
   "source": [
    "random_array_5"
   ]
  },
  {
   "cell_type": "code",
   "execution_count": 131,
   "id": "afcf01f6-c7dd-479c-b068-7c8ffa2ed560",
   "metadata": {},
   "outputs": [
    {
     "data": {
      "text/plain": [
       "array([[[[5, 0, 3, 3],\n",
       "         [9, 3, 5, 2],\n",
       "         [7, 6, 8, 8],\n",
       "         [6, 7, 7, 8]],\n",
       "\n",
       "        [[5, 9, 8, 9],\n",
       "         [3, 0, 3, 5],\n",
       "         [2, 3, 8, 1],\n",
       "         [3, 3, 7, 0]],\n",
       "\n",
       "        [[9, 9, 0, 4],\n",
       "         [3, 2, 7, 2],\n",
       "         [0, 4, 5, 5],\n",
       "         [8, 4, 1, 4]]],\n",
       "\n",
       "\n",
       "       [[[8, 1, 1, 7],\n",
       "         [9, 3, 6, 7],\n",
       "         [0, 3, 5, 9],\n",
       "         [4, 6, 4, 4]],\n",
       "\n",
       "        [[4, 4, 8, 4],\n",
       "         [7, 5, 5, 0],\n",
       "         [5, 9, 3, 0],\n",
       "         [0, 1, 2, 4]],\n",
       "\n",
       "        [[0, 3, 2, 0],\n",
       "         [5, 9, 0, 2],\n",
       "         [2, 9, 2, 3],\n",
       "         [2, 3, 4, 1]]]])"
      ]
     },
     "execution_count": 131,
     "metadata": {},
     "output_type": "execute_result"
    }
   ],
   "source": [
    "# Get the first 4 numbers of the innermost arrays\n",
    "random_array_5[: ,: ,: , :4 ]"
   ]
  },
  {
   "cell_type": "code",
   "execution_count": null,
   "id": "8aee88ad-dbc9-4df0-a9b1-cbe0de92d31b",
   "metadata": {},
   "outputs": [],
   "source": []
  }
 ],
 "metadata": {
  "kernelspec": {
   "display_name": "Python 3 (ipykernel)",
   "language": "python",
   "name": "python3"
  },
  "language_info": {
   "codemirror_mode": {
    "name": "ipython",
    "version": 3
   },
   "file_extension": ".py",
   "mimetype": "text/x-python",
   "name": "python",
   "nbconvert_exporter": "python",
   "pygments_lexer": "ipython3",
   "version": "3.10.13"
  }
 },
 "nbformat": 4,
 "nbformat_minor": 5
}
