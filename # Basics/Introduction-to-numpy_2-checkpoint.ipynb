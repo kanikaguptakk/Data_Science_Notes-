{
 "cells": [
  {
   "cell_type": "markdown",
   "id": "4c772b08-f3f9-4ce0-8b95-c0907e5468f7",
   "metadata": {},
   "source": [
    "### Manipulating and Comparing arrays"
   ]
  },
  {
   "cell_type": "markdown",
   "id": "2c1f3175-a2ca-4042-be51-b1c7dd693ebe",
   "metadata": {},
   "source": [
    "#### Arithmetic"
   ]
  },
  {
   "cell_type": "code",
   "execution_count": 3,
   "id": "52d22c1d-7ae3-4d03-ae6a-19d3da722352",
   "metadata": {},
   "outputs": [
    {
     "data": {
      "text/plain": [
       "array([1, 2, 3])"
      ]
     },
     "execution_count": 3,
     "metadata": {},
     "output_type": "execute_result"
    }
   ],
   "source": [
    "import numpy as np\n",
    "a1=np.array([1,2,3])\n",
    "a1"
   ]
  },
  {
   "cell_type": "code",
   "execution_count": 10,
   "id": "b0b78ebb-a618-4dc8-b61a-a93087da92ac",
   "metadata": {},
   "outputs": [
    {
     "data": {
      "text/plain": [
       "array([[1., 1., 1.],\n",
       "       [1., 1., 1.],\n",
       "       [1., 1., 1.]])"
      ]
     },
     "execution_count": 10,
     "metadata": {},
     "output_type": "execute_result"
    }
   ],
   "source": [
    "ones=np.ones((3,3))\n",
    "ones"
   ]
  },
  {
   "cell_type": "code",
   "execution_count": 11,
   "id": "b422568e-ca8b-4db5-bf0d-4f21a605fe24",
   "metadata": {},
   "outputs": [
    {
     "data": {
      "text/plain": [
       "array([[2., 3., 4.],\n",
       "       [2., 3., 4.],\n",
       "       [2., 3., 4.]])"
      ]
     },
     "execution_count": 11,
     "metadata": {},
     "output_type": "execute_result"
    }
   ],
   "source": [
    "a1+ones       # M1."
   ]
  },
  {
   "cell_type": "code",
   "execution_count": 28,
   "id": "8cd9501b-9ab6-45e4-abbe-c22348bade87",
   "metadata": {},
   "outputs": [
    {
     "data": {
      "text/plain": [
       "array([[2., 3., 4.],\n",
       "       [2., 3., 4.],\n",
       "       [2., 3., 4.]])"
      ]
     },
     "execution_count": 28,
     "metadata": {},
     "output_type": "execute_result"
    }
   ],
   "source": [
    "np.add(a1,ones)      # M2. "
   ]
  },
  {
   "cell_type": "code",
   "execution_count": 12,
   "id": "8363f35e-0370-4196-85f6-a6abfe864021",
   "metadata": {},
   "outputs": [
    {
     "data": {
      "text/plain": [
       "array([[0., 1., 2.],\n",
       "       [0., 1., 2.],\n",
       "       [0., 1., 2.]])"
      ]
     },
     "execution_count": 12,
     "metadata": {},
     "output_type": "execute_result"
    }
   ],
   "source": [
    "a1-ones"
   ]
  },
  {
   "cell_type": "code",
   "execution_count": 13,
   "id": "99190fb3-6796-428a-beeb-ab397a197247",
   "metadata": {},
   "outputs": [
    {
     "data": {
      "text/plain": [
       "array([[1., 2., 3.],\n",
       "       [1., 2., 3.],\n",
       "       [1., 2., 3.]])"
      ]
     },
     "execution_count": 13,
     "metadata": {},
     "output_type": "execute_result"
    }
   ],
   "source": [
    "a1*ones"
   ]
  },
  {
   "cell_type": "code",
   "execution_count": 14,
   "id": "e7660810-a10d-488f-9e6c-f193568f4441",
   "metadata": {},
   "outputs": [
    {
     "data": {
      "text/plain": [
       "array([[1., 2., 3.],\n",
       "       [1., 2., 3.],\n",
       "       [1., 2., 3.]])"
      ]
     },
     "execution_count": 14,
     "metadata": {},
     "output_type": "execute_result"
    }
   ],
   "source": [
    "a1/ones"
   ]
  },
  {
   "cell_type": "code",
   "execution_count": 15,
   "id": "7ff4e121-6455-457c-9af5-ff0db22bde41",
   "metadata": {},
   "outputs": [
    {
     "data": {
      "text/plain": [
       "array([[1.        , 0.5       , 0.33333333],\n",
       "       [1.        , 0.5       , 0.33333333],\n",
       "       [1.        , 0.5       , 0.33333333]])"
      ]
     },
     "execution_count": 15,
     "metadata": {},
     "output_type": "execute_result"
    }
   ],
   "source": [
    "ones/a1"
   ]
  },
  {
   "cell_type": "code",
   "execution_count": 17,
   "id": "b7507694-6ff9-4b9f-acf3-b791aec6b7d2",
   "metadata": {},
   "outputs": [
    {
     "data": {
      "text/plain": [
       "array([[2. , 3. , 4. ],\n",
       "       [4. , 5. , 6.7]])"
      ]
     },
     "execution_count": 17,
     "metadata": {},
     "output_type": "execute_result"
    }
   ],
   "source": [
    "a2=np.array([[2,3,4],\n",
    "    [4,5,6.7]])\n",
    "a2"
   ]
  },
  {
   "cell_type": "code",
   "execution_count": 18,
   "id": "3f2035cc-c74a-4477-aa26-24d368cf0286",
   "metadata": {},
   "outputs": [
    {
     "data": {
      "text/plain": [
       "array([[ 2. ,  6. , 12. ],\n",
       "       [ 4. , 10. , 20.1]])"
      ]
     },
     "execution_count": 18,
     "metadata": {},
     "output_type": "execute_result"
    }
   ],
   "source": [
    "a1*a2"
   ]
  },
  {
   "cell_type": "code",
   "execution_count": 22,
   "id": "e1c1f174-08f5-479e-b460-def05a6aa1e7",
   "metadata": {},
   "outputs": [
    {
     "data": {
      "text/plain": [
       "array([[[2, 3, 4],\n",
       "        [3, 4, 5],\n",
       "        [4, 5, 6]],\n",
       "\n",
       "       [[4, 5, 6],\n",
       "        [4, 6, 7],\n",
       "        [5, 6, 7]]])"
      ]
     },
     "execution_count": 22,
     "metadata": {},
     "output_type": "execute_result"
    }
   ],
   "source": [
    "a3=np.array([[[2,3,4],\n",
    "     [3,4,5],\n",
    "     [4,5,6]],\n",
    "        [[4,5,6],\n",
    "            [4,6,7],\n",
    "           [5,6,7]]])\n",
    "a3"
   ]
  },
  {
   "cell_type": "code",
   "execution_count": 23,
   "id": "5e04b054-140f-477c-9ccc-80b7d759635e",
   "metadata": {},
   "outputs": [
    {
     "data": {
      "text/plain": [
       "array([[[ 2,  6, 12],\n",
       "        [ 3,  8, 15],\n",
       "        [ 4, 10, 18]],\n",
       "\n",
       "       [[ 4, 10, 18],\n",
       "        [ 4, 12, 21],\n",
       "        [ 5, 12, 21]]])"
      ]
     },
     "execution_count": 23,
     "metadata": {},
     "output_type": "execute_result"
    }
   ],
   "source": [
    "a1*a3"
   ]
  },
  {
   "cell_type": "code",
   "execution_count": 24,
   "id": "8088451c-27fd-4867-b886-6cfebaf1bfb8",
   "metadata": {},
   "outputs": [
    {
     "data": {
      "text/plain": [
       "array([[0., 0., 0.],\n",
       "       [0., 0., 0.]])"
      ]
     },
     "execution_count": 24,
     "metadata": {},
     "output_type": "execute_result"
    }
   ],
   "source": [
    "# Floor division removes the decimals (rounds down)\n",
    "a1//a2"
   ]
  },
  {
   "cell_type": "code",
   "execution_count": 25,
   "id": "a8277007-5114-44b5-a0c2-9ee88c72de43",
   "metadata": {},
   "outputs": [
    {
     "data": {
      "text/plain": [
       "array([[2., 1., 1.],\n",
       "       [4., 2., 2.]])"
      ]
     },
     "execution_count": 25,
     "metadata": {},
     "output_type": "execute_result"
    }
   ],
   "source": [
    "a2//a1"
   ]
  },
  {
   "cell_type": "code",
   "execution_count": 26,
   "id": "ccc02d99-e3bd-43b4-bb34-1c90c8de3f9f",
   "metadata": {},
   "outputs": [
    {
     "data": {
      "text/plain": [
       "array([ 1,  8, 27], dtype=int32)"
      ]
     },
     "execution_count": 26,
     "metadata": {},
     "output_type": "execute_result"
    }
   ],
   "source": [
    "a1**3"
   ]
  },
  {
   "cell_type": "code",
   "execution_count": 27,
   "id": "669fa6ae-725c-47e4-bac6-5b2ad14f203a",
   "metadata": {},
   "outputs": [
    {
     "data": {
      "text/plain": [
       "array([[  16.    ,   81.    ,  256.    ],\n",
       "       [ 256.    ,  625.    , 2015.1121]])"
      ]
     },
     "execution_count": 27,
     "metadata": {},
     "output_type": "execute_result"
    }
   ],
   "source": [
    "a2**4"
   ]
  },
  {
   "cell_type": "code",
   "execution_count": 30,
   "id": "1b019f2d-0cf9-4f04-a81f-cbe5aa052d72",
   "metadata": {},
   "outputs": [
    {
     "data": {
      "text/plain": [
       "array([[0., 1., 2.],\n",
       "       [0., 1., 2.],\n",
       "       [0., 1., 2.]])"
      ]
     },
     "execution_count": 30,
     "metadata": {},
     "output_type": "execute_result"
    }
   ],
   "source": [
    "np.subtract(a1,ones)"
   ]
  },
  {
   "cell_type": "code",
   "execution_count": 33,
   "id": "3287f603-8f55-463d-b3be-7b4c5b5390b0",
   "metadata": {},
   "outputs": [
    {
     "data": {
      "text/plain": [
       "array([1, 0, 1], dtype=int32)"
      ]
     },
     "execution_count": 33,
     "metadata": {},
     "output_type": "execute_result"
    }
   ],
   "source": [
    "# Modulo (gives us the remainder)\n",
    "a1%2"
   ]
  },
  {
   "cell_type": "code",
   "execution_count": 34,
   "id": "4b18f795-30d2-441e-a9fe-043167667776",
   "metadata": {},
   "outputs": [
    {
     "data": {
      "text/plain": [
       "array([[  7.3890561 ,  20.08553692,  54.59815003],\n",
       "       [ 54.59815003, 148.4131591 , 812.40582517]])"
      ]
     },
     "execution_count": 34,
     "metadata": {},
     "output_type": "execute_result"
    }
   ],
   "source": [
    "np.exp(a2)"
   ]
  },
  {
   "cell_type": "code",
   "execution_count": 36,
   "id": "e0015fa0-637c-41ef-91af-bcb9bc44c21c",
   "metadata": {},
   "outputs": [
    {
     "data": {
      "text/plain": [
       "array([[[0.69314718, 1.09861229, 1.38629436],\n",
       "        [1.09861229, 1.38629436, 1.60943791],\n",
       "        [1.38629436, 1.60943791, 1.79175947]],\n",
       "\n",
       "       [[1.38629436, 1.60943791, 1.79175947],\n",
       "        [1.38629436, 1.79175947, 1.94591015],\n",
       "        [1.60943791, 1.79175947, 1.94591015]]])"
      ]
     },
     "execution_count": 36,
     "metadata": {},
     "output_type": "execute_result"
    }
   ],
   "source": [
    "np.log(a3)"
   ]
  },
  {
   "cell_type": "markdown",
   "id": "b2af7bb7-f196-4018-a81d-184cf3deb49f",
   "metadata": {},
   "source": [
    "#### Aggregation (performing the same operation on a number of things)"
   ]
  },
  {
   "cell_type": "markdown",
   "id": "e79bd6ba-56b7-4134-a17d-6d7d56ae9625",
   "metadata": {},
   "source": [
    "Use Python's methods (sum()) on Python datatypes and use Numpy's methods (np. sum()) on Numpy arrays"
   ]
  },
  {
   "cell_type": "code",
   "execution_count": 37,
   "id": "f8447342-b9a0-4946-9be8-a97eaeca0171",
   "metadata": {},
   "outputs": [
    {
     "data": {
      "text/plain": [
       "10"
      ]
     },
     "execution_count": 37,
     "metadata": {},
     "output_type": "execute_result"
    }
   ],
   "source": [
    "listy_list=[1,2,7]\n",
    "sum(listy_list)"
   ]
  },
  {
   "cell_type": "code",
   "execution_count": 38,
   "id": "b05d9059-7936-4d16-a3ee-99b182f4327f",
   "metadata": {},
   "outputs": [
    {
     "data": {
      "text/plain": [
       "10"
      ]
     },
     "execution_count": 38,
     "metadata": {},
     "output_type": "execute_result"
    }
   ],
   "source": [
    "np.sum(listy_list)"
   ]
  },
  {
   "cell_type": "code",
   "execution_count": 40,
   "id": "00d9708e-3a2c-4a05-a67d-389004a57d67",
   "metadata": {},
   "outputs": [
    {
     "data": {
      "text/plain": [
       "array([0.55268428, 0.79951666, 0.91890426, 0.90394281, 0.36416282,\n",
       "       0.94253651, 0.3494152 , 0.65089134, 0.0539628 , 0.89267542,\n",
       "       0.66837979, 0.97262345, 0.89496089, 0.02617761, 0.62174769,\n",
       "       0.87678247, 0.73025357, 0.09387829, 0.73077865, 0.16878695,\n",
       "       0.04320316, 0.94083065, 0.5185021 , 0.7963395 , 0.56438994,\n",
       "       0.36348822, 0.0381014 , 0.03915447, 0.1806125 , 0.47123459,\n",
       "       0.91122505, 0.72904181, 0.45588432, 0.3730171 , 0.27039581,\n",
       "       0.1690595 , 0.32663095, 0.85658395, 0.35308385, 0.493497  ,\n",
       "       0.62225643, 0.02887027, 0.52017628, 0.12309601, 0.28860151,\n",
       "       0.0972782 , 0.31639331, 0.29509774, 0.1062619 , 0.37621207,\n",
       "       0.13239978, 0.67364068, 0.19516176, 0.42567167, 0.37009047,\n",
       "       0.72003651, 0.33923712, 0.37759958, 0.82068278, 0.04931495,\n",
       "       0.64345181, 0.77375571, 0.71533628, 0.42841043, 0.72225033,\n",
       "       0.02953443, 0.84618821, 0.5991113 , 0.7715611 , 0.10643176,\n",
       "       0.26212921, 0.78319022, 0.47102355, 0.8473586 , 0.4686952 ,\n",
       "       0.5005376 , 0.69414591, 0.74658382, 0.50552826, 0.45083026,\n",
       "       0.86512399, 0.32779366, 0.71205402, 0.07904267, 0.37515572,\n",
       "       0.21200984, 0.29537889, 0.97681639, 0.61196926, 0.12385684,\n",
       "       0.04818148, 0.93731936, 0.98724173, 0.47363394, 0.63120671,\n",
       "       0.27988882, 0.41333009, 0.96629444, 0.09450631, 0.51053559,\n",
       "       0.76207099, 0.48214235, 0.87404185, 0.83223902, 0.2795172 ,\n",
       "       0.265397  , 0.95732337, 0.82677369, 0.06436072, 0.0660239 ,\n",
       "       0.0674165 , 0.03831943, 0.74929121, 0.66272549, 0.63728444,\n",
       "       0.23005669, 0.59894684, 0.59957975, 0.81496827, 0.00965429,\n",
       "       0.18921254, 0.00933841, 0.86084808, 0.74758493, 0.54053659,\n",
       "       0.23462655, 0.06913368, 0.88853613, 0.41715215, 0.02064059,\n",
       "       0.11033085, 0.19712686, 0.47672221, 0.99172676, 0.70923219,\n",
       "       0.11721669, 0.1838922 , 0.32219066, 0.6534706 , 0.2906377 ,\n",
       "       0.45598776, 0.51300951, 0.90143584, 0.92480863, 0.98547822,\n",
       "       0.59284362, 0.057527  , 0.67583974, 0.42151962, 0.31956508,\n",
       "       0.99965033, 0.06644117, 0.64148461, 0.16468507, 0.03721883,\n",
       "       0.59069322, 0.00985555, 0.34681797, 0.22614943, 0.15814048,\n",
       "       0.1844199 , 0.19883188, 0.83409873, 0.89442476, 0.34433442,\n",
       "       0.43414796, 0.82127564, 0.21292053, 0.2671003 , 0.63144537,\n",
       "       0.59970648, 0.70411364, 0.84724254, 0.15111601, 0.17026347,\n",
       "       0.45185298, 0.38293716, 0.22945471, 0.47310418, 0.15832937,\n",
       "       0.52050812, 0.17629537, 0.9623763 , 0.36771118, 0.14865066,\n",
       "       0.69562943, 0.01488651, 0.75771322, 0.00425556, 0.85712381,\n",
       "       0.66221659, 0.36156498, 0.97786617, 0.4686821 , 0.93611027,\n",
       "       0.67843153, 0.45679543, 0.97508749, 0.7878015 , 0.17609527,\n",
       "       0.71480551, 0.60897776, 0.1126196 , 0.03666102, 0.55970949,\n",
       "       0.38320736, 0.91176751, 0.72709115, 0.61615738, 0.13996493,\n",
       "       0.51478635, 0.0536969 , 0.62238225, 0.47829428, 0.52666695,\n",
       "       0.8661791 , 0.31099872, 0.86731848, 0.42622755, 0.91794953,\n",
       "       0.75410954, 0.75518576, 0.88766546, 0.74140066, 0.92473343,\n",
       "       0.17148471, 0.87457765, 0.21921424, 0.6931476 , 0.56103414,\n",
       "       0.95638389, 0.37206006, 0.03973618, 0.38198832, 0.46204804,\n",
       "       0.37779038, 0.51675939, 0.39169358, 0.04716067, 0.52975834,\n",
       "       0.01280411, 0.26187023, 0.3566393 , 0.60977614, 0.8763289 ,\n",
       "       0.00547234, 0.72706283, 0.66012049, 0.70868988, 0.92530808,\n",
       "       0.63956947, 0.68189983, 0.97428298, 0.72133537, 0.43664293,\n",
       "       0.71748958, 0.24266744, 0.88693252, 0.33169768, 0.18072831,\n",
       "       0.78875061, 0.22264866, 0.26389111, 0.63600248, 0.59356159,\n",
       "       0.64212819, 0.39956026, 0.50083712, 0.91355217, 0.03753891,\n",
       "       0.43754826, 0.96856949, 0.88284291, 0.4625411 , 0.92686479,\n",
       "       0.55406836, 0.5957368 , 0.17763742, 0.25562941, 0.88466771,\n",
       "       0.80124121, 0.35636625, 0.24057229, 0.77049988, 0.40829061,\n",
       "       0.38677289, 0.80839098, 0.38722309, 0.44932554, 0.79190146,\n",
       "       0.02536021, 0.23856228, 0.64324491, 0.71241922, 0.40557243,\n",
       "       0.90660643, 0.4479473 , 0.80008254, 0.8076268 , 0.27682664,\n",
       "       0.8363624 , 0.85938777, 0.25831195, 0.72590291, 0.41952244,\n",
       "       0.19646115, 0.72145043, 0.62853549, 0.73731058, 0.5425169 ,\n",
       "       0.69213151, 0.67371942, 0.99595898, 0.07858793, 0.52987501,\n",
       "       0.41176372, 0.92940899, 0.7971083 , 0.26656093, 0.06134094,\n",
       "       0.24573689, 0.99842176, 0.85175266, 0.43808291, 0.62172496,\n",
       "       0.31614697, 0.84045453, 0.02784031, 0.23626066, 0.91997378,\n",
       "       0.35163584, 0.94024155, 0.34578399, 0.88617047, 0.82673979,\n",
       "       0.37567953, 0.18351097, 0.07115259, 0.61148045, 0.14263332,\n",
       "       0.22598307, 0.29806258, 0.94317325, 0.84071611, 0.84837812,\n",
       "       0.38115923, 0.73465956, 0.28486311, 0.16718314, 0.20838721,\n",
       "       0.7117681 , 0.90729684, 0.24781728, 0.30086738, 0.83555217,\n",
       "       0.57580106, 0.58504814, 0.43829645, 0.09631595, 0.12627562,\n",
       "       0.32733259, 0.57558476, 0.66115443, 0.22951735, 0.68245885,\n",
       "       0.9771377 , 0.65835256, 0.05939808, 0.80417025, 0.25503672,\n",
       "       0.18369746, 0.29619894, 0.91096387, 0.38081075, 0.035733  ,\n",
       "       0.1653138 , 0.03793584, 0.87003161, 0.05545731, 0.21565977,\n",
       "       0.54961726, 0.40238749, 0.94207429, 0.62489084, 0.97376899,\n",
       "       0.83273408, 0.71557991, 0.12848539, 0.10304301, 0.12233109,\n",
       "       0.47452117, 0.44955136, 0.50999649, 0.02911051, 0.71990276,\n",
       "       0.71027333, 0.37667617, 0.91961053, 0.63710751, 0.90547825,\n",
       "       0.65993482, 0.60761275, 0.6750329 , 0.411456  , 0.95124013,\n",
       "       0.47920019, 0.35654844, 0.72315333, 0.93129289, 0.02445832,\n",
       "       0.14369661, 0.46441535, 0.96034663, 0.50822383, 0.4963429 ,\n",
       "       0.67184911, 0.47126379, 0.05420131, 0.01543706, 0.53292406,\n",
       "       0.36078622, 0.64243124, 0.11091731, 0.16367723, 0.86670455,\n",
       "       0.92013073, 0.32935164, 0.06331167, 0.21922872, 0.02440855,\n",
       "       0.94187696, 0.85394603, 0.49442966, 0.88763495, 0.58828358,\n",
       "       0.36002369, 0.54570444, 0.64645418, 0.54576509, 0.57735701,\n",
       "       0.62142379, 0.21085529, 0.29850434, 0.75460045, 0.82389579,\n",
       "       0.7440823 , 0.69874149, 0.71130078, 0.46352112, 0.35993586,\n",
       "       0.22571338, 0.24183777, 0.85849323, 0.33393884, 0.26479874,\n",
       "       0.65219932, 0.80898934, 0.91538707, 0.9075598 , 0.52157806,\n",
       "       0.19928434, 0.79706088, 0.60651721, 0.01184023, 0.98612645,\n",
       "       0.14705978, 0.56061315, 0.26890405, 0.47681616, 0.25929122,\n",
       "       0.59328464, 0.92831581, 0.68148119, 0.16843429, 0.94945163,\n",
       "       0.32712401, 0.43663537, 0.10885363, 0.62759595, 0.89775834,\n",
       "       0.02621884, 0.64244943, 0.26029026, 0.44729368, 0.46134969,\n",
       "       0.37426139, 0.05513957, 0.7396712 , 0.82828476, 0.88377124,\n",
       "       0.47067   , 0.05979946, 0.89847257, 0.84213222, 0.9396269 ,\n",
       "       0.98922604, 0.11508063, 0.96859319, 0.39654126, 0.45352146,\n",
       "       0.32931162, 0.62376374, 0.6390072 , 0.92193178, 0.27355121,\n",
       "       0.49114463, 0.04538027, 0.14108915, 0.56768307, 0.47626802,\n",
       "       0.78634137, 0.78624257, 0.02640196, 0.7826718 , 0.9035735 ,\n",
       "       0.0776154 , 0.07464099, 0.38418049, 0.0991863 , 0.82022344,\n",
       "       0.6859342 , 0.92380512, 0.83589252, 0.50362963, 0.23571505,\n",
       "       0.06083941, 0.31175433, 0.4520298 , 0.61445287, 0.53642199,\n",
       "       0.87550695, 0.31948392, 0.97339842, 0.8900178 , 0.49082766,\n",
       "       0.5534867 , 0.38823562, 0.08285217, 0.68474898, 0.83205574,\n",
       "       0.11713016, 0.12053584, 0.6419306 , 0.2558375 , 0.65256919,\n",
       "       0.74969101, 0.20021647, 0.51261394, 0.04527646, 0.31944228,\n",
       "       0.21033712, 0.40539721, 0.32825836, 0.13738382, 0.89223358,\n",
       "       0.03122793, 0.2437818 , 0.09335333, 0.6679839 , 0.44180394,\n",
       "       0.26342769, 0.12472234, 0.77447938, 0.26144542, 0.54739276,\n",
       "       0.58781148, 0.14409526, 0.54209888, 0.53030409, 0.2568965 ,\n",
       "       0.2135064 , 0.4481551 , 0.38439234, 0.70166243, 0.49753781,\n",
       "       0.17014925, 0.86193792, 0.16106509, 0.41566581, 0.52726292,\n",
       "       0.55551969, 0.69532415, 0.27919361, 0.17228778, 0.16613858,\n",
       "       0.86016994, 0.47135527, 0.40836685, 0.60674394, 0.98366975,\n",
       "       0.3706697 , 0.37016786, 0.01778101, 0.49429644, 0.59799773,\n",
       "       0.76835099, 0.75424722, 0.04871175, 0.48743164, 0.15921928,\n",
       "       0.27433615, 0.71327507, 0.38952313, 0.34423879, 0.28081372,\n",
       "       0.13609437, 0.85671685, 0.5415784 , 0.21292453, 0.60250368,\n",
       "       0.21820036, 0.87143625, 0.52813908, 0.12946356, 0.42736367,\n",
       "       0.30667675, 0.2883482 , 0.29221215, 0.1170293 , 0.45054738,\n",
       "       0.96089679, 0.80008714, 0.06989271, 0.20765549, 0.76886752,\n",
       "       0.98918891, 0.59738563, 0.26046595, 0.72436606, 0.4559454 ,\n",
       "       0.33348252, 0.46548436, 0.73475959, 0.31199943, 0.54526447,\n",
       "       0.12943052, 0.41143184, 0.11792604, 0.59636194, 0.14621354,\n",
       "       0.12227811, 0.80821813, 0.56338408, 0.8717401 , 0.39078386,\n",
       "       0.92257922, 0.64383039, 0.25447531, 0.71815314, 0.96658247,\n",
       "       0.79796494, 0.45481964, 0.5083513 , 0.96206084, 0.64654196,\n",
       "       0.94022423, 0.76399732, 0.93124298, 0.28712173, 0.04588292,\n",
       "       0.54841777, 0.56779779, 0.76228499, 0.0815918 , 0.86628125,\n",
       "       0.38773317, 0.63530337, 0.7647865 , 0.99420379, 0.4441311 ,\n",
       "       0.22745741, 0.72263698, 0.37769046, 0.31026044, 0.34415232,\n",
       "       0.82168071, 0.48380563, 0.73696807, 0.61852954, 0.69621535,\n",
       "       0.74266244, 0.97596611, 0.89982577, 0.5281703 , 0.74100313,\n",
       "       0.07749407, 0.62465547, 0.3604869 , 0.26755442, 0.55481423,\n",
       "       0.91300389, 0.85035405, 0.99797488, 0.99960297, 0.24668409,\n",
       "       0.24870183, 0.0325761 , 0.87014408, 0.5976578 , 0.84826105,\n",
       "       0.7202403 , 0.57147232, 0.83943925, 0.94909372, 0.42765106,\n",
       "       0.48754581, 0.45443375, 0.97837747, 0.06597834, 0.63789581,\n",
       "       0.69168561, 0.71028104, 0.50580963, 0.32227388, 0.68941602,\n",
       "       0.62982207, 0.8849885 , 0.86526926, 0.32074721, 0.72559473,\n",
       "       0.43553259, 0.08710022, 0.87380546, 0.37197806, 0.38398588,\n",
       "       0.12494892, 0.34964001, 0.09046937, 0.58380116, 0.98170845,\n",
       "       0.07645418, 0.86946093, 0.25160352, 0.58651177, 0.16462679,\n",
       "       0.3675267 , 0.33350602, 0.37146071, 0.32826832, 0.8976291 ,\n",
       "       0.78400035, 0.51981584, 0.10553939, 0.9286323 , 0.18130379,\n",
       "       0.76263071, 0.89899209, 0.4266737 , 0.31911596, 0.49617055,\n",
       "       0.44574995, 0.084836  , 0.23369266, 0.42005323, 0.57877168,\n",
       "       0.07677372, 0.33292285, 0.96272871, 0.51242827, 0.17499875,\n",
       "       0.70395872, 0.1250655 , 0.3346656 , 0.34432257, 0.09226045,\n",
       "       0.8070434 , 0.51342839, 0.55780218, 0.76717187, 0.24319678,\n",
       "       0.35335455, 0.99371656, 0.83675941, 0.2088005 , 0.73057888,\n",
       "       0.78323478, 0.17543422, 0.97414513, 0.83175009, 0.68011758,\n",
       "       0.66741785, 0.64645514, 0.26172637, 0.83399383, 0.05831039,\n",
       "       0.17297366, 0.46537813, 0.75598193, 0.01475236, 0.56088737,\n",
       "       0.94516859, 0.25574412, 0.51965765, 0.98824035, 0.22017132,\n",
       "       0.17858148, 0.67728762, 0.03666456, 0.82768335, 0.3481525 ,\n",
       "       0.60992069, 0.94821999, 0.8056352 , 0.30869436, 0.8820994 ,\n",
       "       0.31952438, 0.95505887, 0.66659538, 0.68973735, 0.3880127 ,\n",
       "       0.02499852, 0.41956956, 0.37647505, 0.81268028, 0.5726301 ,\n",
       "       0.61825205, 0.15162042, 0.77743408, 0.49686681, 0.87643969,\n",
       "       0.11209679, 0.3902133 , 0.92554571, 0.34758748, 0.50061824,\n",
       "       0.4402424 , 0.45739973, 0.35073791, 0.27357473, 0.251971  ,\n",
       "       0.64357001, 0.61940053, 0.18861373, 0.69749071, 0.56105402,\n",
       "       0.29870584, 0.15184172, 0.54315011, 0.7609446 , 0.77816334,\n",
       "       0.90304352, 0.27491348, 0.53984207, 0.66436011, 0.83668343,\n",
       "       0.36775053, 0.77205158, 0.35884018, 0.82512849, 0.74016339,\n",
       "       0.93828981, 0.53606085, 0.42519254, 0.29584673, 0.46065413,\n",
       "       0.65662087, 0.34193283, 0.95561   , 0.3585179 , 0.2756157 ,\n",
       "       0.78586348, 0.7204631 , 0.31512955, 0.38777968, 0.59513407,\n",
       "       0.53226545, 0.93247063, 0.02797878, 0.52240837, 0.2415112 ,\n",
       "       0.75302423, 0.68122409, 0.29921961, 0.03739664, 0.02809097,\n",
       "       0.55347477, 0.63923616, 0.4213513 , 0.46615702, 0.45983701,\n",
       "       0.90172315, 0.75059246, 0.42624554, 0.82072744, 0.02892562,\n",
       "       0.86775108, 0.13862493, 0.79608082, 0.49649367, 0.5508102 ,\n",
       "       0.44392797, 0.96779928, 0.45280021, 0.21943303, 0.35890917,\n",
       "       0.64224344, 0.12430746, 0.82907592, 0.40445023, 0.77195227,\n",
       "       0.14651276, 0.17129735, 0.80209001, 0.07347356, 0.94819061,\n",
       "       0.38717076, 0.76462464, 0.53123959, 0.86238651, 0.64002294,\n",
       "       0.15594901, 0.60403622, 0.71944882, 0.95337921, 0.78450347,\n",
       "       0.69501406, 0.88347409, 0.40265457, 0.23741861, 0.75820401,\n",
       "       0.87453702, 0.08681215, 0.20302936, 0.62152433, 0.53626575,\n",
       "       0.23159928, 0.27161264, 0.52064139, 0.32846763, 0.98656173,\n",
       "       0.91981436, 0.23551945, 0.3925337 , 0.83411436, 0.10570482,\n",
       "       0.9820904 , 0.03078899, 0.08477478, 0.19261977, 0.83860449,\n",
       "       0.45948439, 0.78732028, 0.67402054, 0.70874712, 0.46408872,\n",
       "       0.19821125, 0.38526493, 0.78704439, 0.37956457, 0.26367607,\n",
       "       0.74690559, 0.84629637, 0.4416801 , 0.29701084, 0.83096408,\n",
       "       0.75242158, 0.85211863, 0.2664276 , 0.6183477 , 0.96762186,\n",
       "       0.02454861, 0.02228585, 0.48650892, 0.03615115, 0.62285249,\n",
       "       0.03010313, 0.09203176, 0.94290116, 0.6726616 , 0.8204599 ,\n",
       "       0.54394095, 0.36368231, 0.57833077, 0.99337771, 0.77144165,\n",
       "       0.8805926 , 0.22469607, 0.81161488, 0.46234732, 0.19240001,\n",
       "       0.16543336, 0.58844251, 0.18660115, 0.84267205, 0.99076915,\n",
       "       0.82501924, 0.61264257, 0.73763034, 0.61333513, 0.20599815,\n",
       "       0.91470012, 0.57410111, 0.2170196 , 0.26574778, 0.51267184,\n",
       "       0.4431555 , 0.10085846, 0.53261891, 0.40390462, 0.4797156 ])"
      ]
     },
     "execution_count": 40,
     "metadata": {},
     "output_type": "execute_result"
    }
   ],
   "source": [
    "# Creating a massive NumPy array\n",
    "massive_array=np.random.random(1000)\n",
    "massive_array"
   ]
  },
  {
   "cell_type": "code",
   "execution_count": 41,
   "id": "c2ed8b38-67e1-4e3c-acf4-ca4fbd9a5b0d",
   "metadata": {},
   "outputs": [
    {
     "data": {
      "text/plain": [
       "array([0.55268428, 0.79951666, 0.91890426, 0.90394281, 0.36416282,\n",
       "       0.94253651, 0.3494152 , 0.65089134, 0.0539628 , 0.89267542,\n",
       "       0.66837979, 0.97262345, 0.89496089, 0.02617761, 0.62174769,\n",
       "       0.87678247, 0.73025357, 0.09387829, 0.73077865, 0.16878695])"
      ]
     },
     "execution_count": 41,
     "metadata": {},
     "output_type": "execute_result"
    }
   ],
   "source": [
    "massive_array[:20]"
   ]
  },
  {
   "cell_type": "code",
   "execution_count": 42,
   "id": "82d7c961-5353-42bd-9be8-be46f9078f12",
   "metadata": {},
   "outputs": [
    {
     "name": "stdout",
     "output_type": "stream",
     "text": [
      "133 µs ± 3.85 µs per loop (mean ± std. dev. of 7 runs, 10,000 loops each)\n",
      "9.15 µs ± 366 ns per loop (mean ± std. dev. of 7 runs, 100,000 loops each)\n"
     ]
    }
   ],
   "source": [
    "%timeit sum(massive_array)        # Python's sum()\n",
    "%timeit np.sum(massive_array)          # Numpy's np.sum()"
   ]
  },
  {
   "cell_type": "code",
   "execution_count": 43,
   "id": "bf0cefb2-f1c2-486b-abd6-eb555c518834",
   "metadata": {},
   "outputs": [],
   "source": [
    "# np.sum() is faster than sum()"
   ]
  },
  {
   "cell_type": "code",
   "execution_count": 44,
   "id": "98639e04-7c47-4930-8d7b-6cc4e4648086",
   "metadata": {},
   "outputs": [
    {
     "data": {
      "text/plain": [
       "array([[[2, 3, 4],\n",
       "        [3, 4, 5],\n",
       "        [4, 5, 6]],\n",
       "\n",
       "       [[4, 5, 6],\n",
       "        [4, 6, 7],\n",
       "        [5, 6, 7]]])"
      ]
     },
     "execution_count": 44,
     "metadata": {},
     "output_type": "execute_result"
    }
   ],
   "source": [
    "a3"
   ]
  },
  {
   "cell_type": "code",
   "execution_count": 45,
   "id": "db6fac53-00a3-459f-96fb-6d231a5685aa",
   "metadata": {},
   "outputs": [
    {
     "data": {
      "text/plain": [
       "7"
      ]
     },
     "execution_count": 45,
     "metadata": {},
     "output_type": "execute_result"
    }
   ],
   "source": [
    "np.max(a3)"
   ]
  },
  {
   "cell_type": "code",
   "execution_count": 46,
   "id": "9affda0a-0850-4eea-8615-6096d8b4f582",
   "metadata": {},
   "outputs": [
    {
     "data": {
      "text/plain": [
       "2"
      ]
     },
     "execution_count": 46,
     "metadata": {},
     "output_type": "execute_result"
    }
   ],
   "source": [
    "np.min(a3)"
   ]
  },
  {
   "cell_type": "code",
   "execution_count": 47,
   "id": "aed01599-4c55-4f05-b846-e4960361fb38",
   "metadata": {},
   "outputs": [
    {
     "data": {
      "text/plain": [
       "1.4837078178970713"
      ]
     },
     "execution_count": 47,
     "metadata": {},
     "output_type": "execute_result"
    }
   ],
   "source": [
    "np.std(a2)    # Standard Deviation"
   ]
  },
  {
   "cell_type": "code",
   "execution_count": 50,
   "id": "566f37cb-52a1-42a1-9d32-f0c5d955ed1f",
   "metadata": {},
   "outputs": [
    {
     "data": {
      "text/plain": [
       "2.201388888888889"
      ]
     },
     "execution_count": 50,
     "metadata": {},
     "output_type": "execute_result"
    }
   ],
   "source": [
    "np.var(a2)     # Variance"
   ]
  },
  {
   "cell_type": "code",
   "execution_count": 51,
   "id": "3917a0be-f73f-4129-8055-df6fec156de0",
   "metadata": {},
   "outputs": [
    {
     "data": {
      "text/plain": [
       "1.4837078178970713"
      ]
     },
     "execution_count": 51,
     "metadata": {},
     "output_type": "execute_result"
    }
   ],
   "source": [
    "# Standard Deviation = square root of Variance\n",
    "np.sqrt(np.var(a2))"
   ]
  },
  {
   "cell_type": "code",
   "execution_count": 52,
   "id": "ed2f008f-4648-4bb1-8c2d-cd8952d8b6f1",
   "metadata": {},
   "outputs": [
    {
     "data": {
      "text/plain": [
       "(8767977.6875, 5.0)"
      ]
     },
     "execution_count": 52,
     "metadata": {},
     "output_type": "execute_result"
    }
   ],
   "source": [
    "# Demo of std and var\n",
    "high_var_array=([1,30,500,7000])\n",
    "low_var_array=([1,3,5,7])\n",
    "np.var(high_var_array), np.var(low_var_array)"
   ]
  },
  {
   "cell_type": "code",
   "execution_count": 53,
   "id": "587622fb-a669-4d16-a143-ff1cac6c2b9d",
   "metadata": {},
   "outputs": [
    {
     "data": {
      "text/plain": [
       "(2961.077116101504, 2.23606797749979)"
      ]
     },
     "execution_count": 53,
     "metadata": {},
     "output_type": "execute_result"
    }
   ],
   "source": [
    "np.std(high_var_array), np.std(low_var_array)"
   ]
  },
  {
   "cell_type": "code",
   "execution_count": 54,
   "id": "3788a1e2-5efe-4082-b9de-e61cdc0f927d",
   "metadata": {},
   "outputs": [
    {
     "data": {
      "text/plain": [
       "(1882.75, 4.0)"
      ]
     },
     "execution_count": 54,
     "metadata": {},
     "output_type": "execute_result"
    }
   ],
   "source": [
    "np.mean(high_var_array), np.mean(low_var_array)"
   ]
  },
  {
   "cell_type": "code",
   "execution_count": 59,
   "id": "da94d529-6de2-4fc8-8306-69675a4228da",
   "metadata": {},
   "outputs": [
    {
     "data": {
      "image/png": "[encoded data removed]",
      "text/plain": [
       "<Figure size 640x480 with 1 Axes>"
      ]
     },
     "metadata": {},
     "output_type": "display_data"
    }
   ],
   "source": [
    "%matplotlib inline\n",
    "import matplotlib.pyplot as plt\n",
    "plt.hist(high_var_array)\n",
    "plt.show()"
   ]
  },
  {
   "cell_type": "code",
   "execution_count": 61,
   "id": "f162e8c9-1e57-4661-8d05-97cfe3ecb3a3",
   "metadata": {},
   "outputs": [
    {
     "data": {
      "image/png": "[encoded data removed]",
      "text/plain": [
       "<Figure size 640x480 with 1 Axes>"
      ]
     },
     "metadata": {},
     "output_type": "display_data"
    }
   ],
   "source": [
    "plt.hist(low_var_array)\n",
    "plt.show()"
   ]
  },
  {
   "cell_type": "code",
   "execution_count": null,
   "id": "066d3baf-02e6-4928-b882-78fd2c260dc2",
   "metadata": {},
   "outputs": [],
   "source": []
  }
 ],
 "metadata": {
  "kernelspec": {
   "display_name": "Python 3 (ipykernel)",
   "language": "python",
   "name": "python3"
  },
  "language_info": {
   "codemirror_mode": {
    "name": "ipython",
    "version": 3
   },
   "file_extension": ".py",
   "mimetype": "text/x-python",
   "name": "python",
   "nbconvert_exporter": "python",
   "pygments_lexer": "ipython3",
   "version": "3.10.13"
  }
 },
 "nbformat": 4,
 "nbformat_minor": 5
}
